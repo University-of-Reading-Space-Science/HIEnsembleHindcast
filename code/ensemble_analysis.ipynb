{
 "cells": [
  {
   "cell_type": "code",
   "execution_count": 1,
   "metadata": {},
   "outputs": [
    {
     "name": "stderr",
     "output_type": "stream",
     "text": [
      "WARNING: ErfaWarning: ERFA function \"dtf2d\" yielded 1 of \"dubious year (Note 6)\" [astropy._erfa.core]\n",
      "WARNING: ErfaWarning: ERFA function \"d2dtf\" yielded 1 of \"dubious year (Note 5)\" [astropy._erfa.core]\n"
     ]
    }
   ],
   "source": [
    "import HIEnsembleHindcast as heh\n",
    "import astropy.units as u"
   ]
  },
  {
   "cell_type": "code",
   "execution_count": null,
   "metadata": {},
   "outputs": [],
   "source": [
    "event_list = ['ssw_007', 'ssw_008', 'ssw_009', 'ssw_012']\n",
    "for event in event_list:\n",
    "    print('***************************')\n",
    "    print(event)   \n",
    "    heh.run_huxt_ensemble(event, n_ensemble=200)\n",
    "    heh.track_cme_flanks(event, fast=True)    \n",
    "    heh.compute_ssw_profile(event)\n",
    "    heh.compute_ensemble_metrics(event)\n",
    "    time = 0.4*u.day\n",
    "    heh.plot_huxt_and_hi_schematic(event, time)\n",
    "    heh.plot_ensemble_elongation_profiles(event)\n",
    "    heh.print_stats_table(event)\n",
    "    heh.ensemble_histogram(event)\n",
    "    heh.scatter_weight_error(event)\n",
    "    \n",
    "heh.all_time_elongation_plots()\n",
    "heh.all_weight_vs_error_plots()\n",
    "heh.print_table_1()\n",
    "heh.print_summary_statistics()"
   ]
  }
 ],
 "metadata": {
  "kernelspec": {
   "display_name": "Python 3",
   "language": "python",
   "name": "python3"
  },
  "language_info": {
   "codemirror_mode": {
    "name": "ipython",
    "version": 3
   },
   "file_extension": ".py",
   "mimetype": "text/x-python",
   "name": "python",
   "nbconvert_exporter": "python",
   "pygments_lexer": "ipython3",
   "version": "3.7.8"
  }
 },
 "nbformat": 4,
 "nbformat_minor": 4
}
